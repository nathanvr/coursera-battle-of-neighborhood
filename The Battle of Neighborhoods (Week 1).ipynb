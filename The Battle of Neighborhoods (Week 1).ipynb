{
 "cells": [
  {
   "cell_type": "markdown",
   "metadata": {},
   "source": [
    "## Introduction"
   ]
  },
  {
   "cell_type": "markdown",
   "metadata": {},
   "source": [
    "### Problem Description:\n",
    "Changing house isnt a simple task, and much less move from one city to another, you must be clear criteria when choosing house such as nearby places, restaurants, supermarkets, etc. also the security of the neighborhood.\n",
    "\n",
    "Andres has a job offer in New York City. he want to accept it but he don't want to change his lifestyle in a significant way. He wants rent in a neighborhood very similar to his neighborhood in Bogota, Colombia.\n",
    "\n",
    "### Problem Background:\n",
    "\n",
    "#### Population\n",
    "New York is one of the most populous cities with 8.3 million habitants in an area of 783.8 km2. with great cultural diversity, considered a global city due to its worldwide influence. it has 5 districts (Bronx, Brooklyn, Manhattan, Queens, Staten islands) and 306 neighborhoods.\n",
    "\n",
    "#### Crime\n",
    "\"For the last several years, New York City officials have proudly claimed the title of the safest big city in the country. But for the first time in years, the crime figures for the last 12 months are threatening to undermine that sense of safety. More than 300 people were murdered in 2019, an increase of nearly 8 percent compared with 2018, and the highest number in three years, according to police statistics.\"[https://www.nytimes.com/2020/01/07/us/politics/nypd-crime-stats.html]\n",
    "\n",
    "\n",
    "### Target audience:\n",
    "people who want to find a neighborhood to live in new york, this project serves as a guide for anyone who wants to move to NY \n",
    "\n",
    "### Success Criteria:\n",
    "the success criteria of the project will be to make a good recommendation to Andres of the neighborhoods that he can choose to live in New York according to his needs.\n",
    "\n",
    "### Data\n",
    "Bogota city: To know the coordinates of the neighborhood in which Andres lives, it is not necessary to download an entire data set, just search for the neighborhood in any map service and copy it..<br>\n",
    "Neighborhood: el pedregal<br>\n",
    "City: Bogota, Colombia<br>\n",
    "Coordinates: 4.6841502,-74.0440973<br>\n",
    "\n",
    "NYC data: The coordinates of the neighborhoods of New York will be acquired from the link provided in the course.<br> \n",
    "url = https://geo.nyu.edu/catalog/nyu_2451_34572\n",
    "\n",
    "crime data: This dataset will be retrieved from the NYOpenData page. We will obtain the data for 2019 and so far this year in order to carry out the security analysis of each neighborhood.<br>\n",
    "url = https://data.cityofnewyork.us/Public-Safety/NYC-crime/qb7u-rbmr"
   ]
  }
 ],
 "metadata": {
  "kernelspec": {
   "display_name": "Python 3",
   "language": "python",
   "name": "python3"
  },
  "language_info": {
   "codemirror_mode": {
    "name": "ipython",
    "version": 3
   },
   "file_extension": ".py",
   "mimetype": "text/x-python",
   "name": "python",
   "nbconvert_exporter": "python",
   "pygments_lexer": "ipython3",
   "version": "3.7.4"
  }
 },
 "nbformat": 4,
 "nbformat_minor": 4
}
